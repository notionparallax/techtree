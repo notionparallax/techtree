{
 "cells": [
  {
   "cell_type": "markdown",
   "source": [
    "# Get Data from Airtable\n",
    "\n",
    "This gets the data from the two tables and formats it into dataframes. It's probably not the cleanest thing in the world, but hopefully it'll do for now."
   ],
   "metadata": {}
  },
  {
   "cell_type": "code",
   "execution_count": 16,
   "source": [
    "import ast\r\n",
    "import pandas as pd\r\n",
    "import requests\r\n",
    "import textwrap\r\n",
    "import simplejson\r\n",
    "from datetime import datetime"
   ],
   "outputs": [],
   "metadata": {
    "ExecuteTime": {
     "end_time": "2018-06-13T08:09:43.231389Z",
     "start_time": "2018-06-13T08:09:43.226389Z"
    },
    "collapsed": true
   }
  },
  {
   "cell_type": "code",
   "execution_count": 17,
   "source": [
    "LINE_LENGTH = 15\r\n",
    "TESTING = True\r\n",
    "\r\n",
    "jsonp_body = f\"// This is crusty, but it seems to work.\\n// Generated at {datetime.now()}\""
   ],
   "outputs": [],
   "metadata": {
    "ExecuteTime": {
     "end_time": "2018-06-13T08:09:43.239389Z",
     "start_time": "2018-06-13T08:09:43.234389Z"
    },
    "collapsed": true
   }
  },
  {
   "cell_type": "code",
   "execution_count": 18,
   "source": [
    "def mergeD(ugly_data):\r\n",
    "    \"\"\"Put the ID inside the dictionary that becomes the row.\"\"\"\r\n",
    "    f = ugly_data[\"fields\"]\r\n",
    "    i = {\"id\": ugly_data[\"id\"]}\r\n",
    "    f.update(i)\r\n",
    "    return f\r\n",
    "\r\n",
    "if TESTING:\r\n",
    "    t = mergeD({'createdTime': '2018-05-25T07:45:33.000Z', 'fields': {'Other_people_involved': ['rece9qyNSfMqAhZAL'], 'Owner': ['recgcDkgKvrBLH1k0'], 'LongName': 'A Plane of Thrones Paper', 'Name': 'potPaper', 'percentComplete': 100, 'precursors': ['recflCm8BzuGQbmW0', 'recSIIp1grVggDGQo'], 'Type': 'Publication'}, 'id': 'rec0ArDcPS4hLrmJq'})\r\n",
    "    print(t)"
   ],
   "outputs": [
    {
     "output_type": "stream",
     "name": "stdout",
     "text": [
      "{'percentComplete': 100, 'id': 'rec0ArDcPS4hLrmJq', 'Owner': ['recgcDkgKvrBLH1k0'], 'Other_people_involved': ['rece9qyNSfMqAhZAL'], 'Type': 'Publication', 'LongName': 'A Plane of Thrones Paper', 'Name': 'potPaper', 'precursors': ['recflCm8BzuGQbmW0', 'recSIIp1grVggDGQo']}\n"
     ]
    }
   ],
   "metadata": {
    "ExecuteTime": {
     "end_time": "2018-06-13T08:09:43.255389Z",
     "start_time": "2018-06-13T08:09:43.242389Z"
    }
   }
  },
  {
   "cell_type": "code",
   "execution_count": 19,
   "source": [
    "def get_table(table_name):\n",
    "    \"\"\"Get the table from the OATMEAL airtable database and return it as a DataFrame.\"\"\"\n",
    "    auth_headers = {'Authorization': 'Bearer keyYXkjYFw61SeWDk'}\n",
    "    table_url = 'https://api.airtable.com/v0/appuaXpFiadmP89sq/' + table_name\n",
    "    r = requests.get(table_url, headers=auth_headers)\n",
    "    d = eval(ast.literal_eval(str(r.content)[1:])) # this is almost certainly not the right way to do this!\n",
    "    \n",
    "    rows = [mergeD(x) for x in d[\"records\"]]\n",
    "    data_frame = pd.DataFrame(rows)\n",
    "    return data_frame\n",
    "\n",
    "if TESTING:\n",
    "    t = get_table(\"Techs\")\n",
    "    print(t)"
   ],
   "outputs": [
    {
     "output_type": "stream",
     "name": "stdout",
     "text": [
      "                                             LongName                Name  \\\n",
      "0                            A Plane of Thrones Paper            potPaper   \n",
      "1                                     Robotics Papers            robPaper   \n",
      "2                                  Below Desk Sensing         deskSenseDn   \n",
      "3                                          Unit Desks               desks   \n",
      "4                                  Above Desk Sensing         deskSenseUp   \n",
      "5                                             Octopus             octopus   \n",
      "6                                          Mobile App                mApp   \n",
      "7                     Geographic/ Ethnographic data 2           geoEthno2   \n",
      "8       Meeting Room Occupancy Quantification Product  MeetingRoomProduct   \n",
      "9                                   iBeacon Awareness         basicBeacon   \n",
      "10                                        Sensicorn 2          sensicorn2   \n",
      "11                    Geographic/ Ethnographic data 1           geoEthno1   \n",
      "12                                         Email Data           emailData   \n",
      "13             Robotic Building Topology Modification                RBTM   \n",
      "14                                Awareness of Robots          basicRobot   \n",
      "15                                     Timesheet Data            timeData   \n",
      "16                            Social Network Analysis                 SNA   \n",
      "17                            Change Space Collective         changeSpace   \n",
      "18                           Robotic Desk Arrangement             robDesk   \n",
      "19  Continuous Analysis, Design & Delivery as a se...            CADD_AAS   \n",
      "20                             Shakedown data capture           Shakedown   \n",
      "21                                      SNA Awareness        SNAawareness   \n",
      "22                         Mobile Phone Diary Studies              diary2   \n",
      "23                        Desk Placement Rules Engine     DeskRulesEngine   \n",
      "24                                    Robotic Weaving                halo   \n",
      "25                  Social Network Analysis Blog Post             SNAblog   \n",
      "26                              Sydney Studio Seating    SydStudioSeating   \n",
      "27                            Revit Layout Extraction            revit2ML   \n",
      "28                                      Data Literacy                data   \n",
      "29                                        Sensicorn 1          sensicorn1   \n",
      "..                                                ...                 ...   \n",
      "32                                      Diary Studies               diary   \n",
      "33           SLAM (Simultanious Location And Mapping)                SLAM   \n",
      "34                              Bravo Victor November               bravo   \n",
      "35                       Printed Circuit Board Design                 PCB   \n",
      "36                                Workplace Analytics  workplaceAnalytics   \n",
      "37                       A Plane of Thrones Framework                 pot   \n",
      "38                                      Desk Location             deskLoc   \n",
      "39                          Sydney Studio Revit Model         SydneyModel   \n",
      "40                                        Desktop App            electron   \n",
      "41                              Robot Mounted Sensing            robSense   \n",
      "42                                  Distribution Boom                boom   \n",
      "43                                           altSpace            altSpace   \n",
      "44                                          AI Layout            AIlayout   \n",
      "45                   Learning Amplified Seating Plans                lAmp   \n",
      "46                         Capturing Business Metrics              bizCap   \n",
      "47                               Layout Training Data          loTraining   \n",
      "48             Continuous Analysis, Design & Delivery                cadd   \n",
      "49                    Geographic/ Ethnographic data 3           geoEthno3   \n",
      "50                                    Shakedown Paper      ShakedownPaper   \n",
      "51                            Basic Image Recognition            ImageRec   \n",
      "52                                                 S3                  s3   \n",
      "53                                    Sensor Literacy             sensors   \n",
      "54                                 Path Visualisation             pathVis   \n",
      "55              Meeting Room Occupancy Quantification      MeetingRoomOcc   \n",
      "56                                Learning Experiment                lExp   \n",
      "57                                       Systems Reef          systemReef   \n",
      "58                                     Shakedown Blog       ShakedownBlog   \n",
      "59                    Shakedown (with stalls) Product          Shakedown2   \n",
      "60                                    Hardware Design            hardware   \n",
      "61              Buildings That Are Right All The Time             BTARATA   \n",
      "\n",
      "                                Other_people_involved                Owner  \\\n",
      "0                                 [rece9qyNSfMqAhZAL]  [recgcDkgKvrBLH1k0]   \n",
      "1                                 [recHLT6IoCZXwwtp3]  [reck4uCQdMmA9Dy0e]   \n",
      "2                                                 NaN  [recj2rmnndUmxB3Dt]   \n",
      "3                                                 NaN  [recHLT6IoCZXwwtp3]   \n",
      "4              [recuFyI25ChOwWWhr, rece9qyNSfMqAhZAL]  [recj2rmnndUmxB3Dt]   \n",
      "5              [rece9qyNSfMqAhZAL, recj2rmnndUmxB3Dt]  [recwl2PnrQ8ueQBQ7]   \n",
      "6                                                 NaN                  NaN   \n",
      "7                                                 NaN                  NaN   \n",
      "8                                                 NaN                  NaN   \n",
      "9                                 [rece9qyNSfMqAhZAL]  [rec3HypnJiuTkeVBJ]   \n",
      "10                                                NaN                  NaN   \n",
      "11                                                NaN                  NaN   \n",
      "12                                                NaN  [recgcDkgKvrBLH1k0]   \n",
      "13                                                NaN                  NaN   \n",
      "14                                                NaN  [reck4uCQdMmA9Dy0e]   \n",
      "15                                                NaN                  NaN   \n",
      "16                                                NaN  [recgcDkgKvrBLH1k0]   \n",
      "17                                                NaN  [recHN7P3Wz3YGdAN2]   \n",
      "18                                                NaN                  NaN   \n",
      "19                                                NaN                  NaN   \n",
      "20             [recgcDkgKvrBLH1k0, rece9qyNSfMqAhZAL]  [recj2rmnndUmxB3Dt]   \n",
      "21                                                NaN  [recgcDkgKvrBLH1k0]   \n",
      "22                                                NaN  [recjdvfsS0ZXESR2L]   \n",
      "23                                                NaN  [rece9qyNSfMqAhZAL]   \n",
      "24                                                NaN  [reck4uCQdMmA9Dy0e]   \n",
      "25                                                NaN  [recgcDkgKvrBLH1k0]   \n",
      "26                                                NaN                  NaN   \n",
      "27                                [rece9qyNSfMqAhZAL]  [recjdvfsS0ZXESR2L]   \n",
      "28  [recj2rmnndUmxB3Dt, rece9qyNSfMqAhZAL, rec3Hyp...  [recgcDkgKvrBLH1k0]   \n",
      "29                                [rec3HypnJiuTkeVBJ]  [rece9qyNSfMqAhZAL]   \n",
      "..                                                ...                  ...   \n",
      "32                                [rece9qyNSfMqAhZAL]  [recjdvfsS0ZXESR2L]   \n",
      "33                                                NaN                  NaN   \n",
      "34                                                NaN  [rece9qyNSfMqAhZAL]   \n",
      "35                                                NaN  [recj2rmnndUmxB3Dt]   \n",
      "36                                                NaN                  NaN   \n",
      "37                                [recAVwOLxaAUdYQA3]  [recgcDkgKvrBLH1k0]   \n",
      "38                                [recgcDkgKvrBLH1k0]  [rece9qyNSfMqAhZAL]   \n",
      "39                                [rec3HypnJiuTkeVBJ]  [recjdvfsS0ZXESR2L]   \n",
      "40  [recj2rmnndUmxB3Dt, recuFyI25ChOwWWhr, recgcDk...  [rece9qyNSfMqAhZAL]   \n",
      "41                                                NaN                  NaN   \n",
      "42                                                NaN  [recHLT6IoCZXwwtp3]   \n",
      "43                                                NaN  [recHN7P3Wz3YGdAN2]   \n",
      "44                                [recjdvfsS0ZXESR2L]  [rece9qyNSfMqAhZAL]   \n",
      "45                                                NaN  [recgcDkgKvrBLH1k0]   \n",
      "46                                                NaN  [rec0dpxUhHfgHWU7r]   \n",
      "47             [recjdvfsS0ZXESR2L, recFUgthTUYQnR7Mz]  [rece9qyNSfMqAhZAL]   \n",
      "48                                                NaN                  NaN   \n",
      "49                                                NaN  [rece9qyNSfMqAhZAL]   \n",
      "50                                [rece9qyNSfMqAhZAL]  [recj2rmnndUmxB3Dt]   \n",
      "51                                                NaN                  NaN   \n",
      "52             [rece9qyNSfMqAhZAL, recMZdSRhVMMJQcOb]  [recj2rmnndUmxB3Dt]   \n",
      "53                                                NaN  [recj2rmnndUmxB3Dt]   \n",
      "54                                                NaN  [rec3HypnJiuTkeVBJ]   \n",
      "55                                [recgcDkgKvrBLH1k0]  [recj2rmnndUmxB3Dt]   \n",
      "56                                [rece9qyNSfMqAhZAL]  [recgcDkgKvrBLH1k0]   \n",
      "57                                [reck4uCQdMmA9Dy0e]  [recHLT6IoCZXwwtp3]   \n",
      "58                                [rece9qyNSfMqAhZAL]  [recj2rmnndUmxB3Dt]   \n",
      "59                                                NaN                  NaN   \n",
      "60                                [recMZdSRhVMMJQcOb]  [recj2rmnndUmxB3Dt]   \n",
      "61                                                NaN                  NaN   \n",
      "\n",
      "           Type                                         deck_embed  \\\n",
      "0   Publication  <iframe src=\"https://docs.google.com/presentat...   \n",
      "1   Publication  <iframe src=\"https://docs.google.com/presentat...   \n",
      "2       Project  <iframe src=\"https://docs.google.com/presentat...   \n",
      "3    Capability  <iframe src=\"https://docs.google.com/presentat...   \n",
      "4       Project  <iframe src=\"https://docs.google.com/presentat...   \n",
      "5       Product  <iframe src=\"https://docs.google.com/presentat...   \n",
      "6       Project  <iframe src=\"https://docs.google.com/presentat...   \n",
      "7     Milestone  <iframe src=\"https://docs.google.com/presentat...   \n",
      "8       Product  <iframe src=\"https://docs.google.com/presentat...   \n",
      "9    Capability  <iframe src=\"https://docs.google.com/presentat...   \n",
      "10      Project  <iframe src=\"https://docs.google.com/presentat...   \n",
      "11    Milestone  <iframe src=\"https://docs.google.com/presentat...   \n",
      "12   Capability  <iframe src=\"https://docs.google.com/presentat...   \n",
      "13      Project  <iframe src=\"https://docs.google.com/presentat...   \n",
      "14   Capability  <iframe src=\"https://docs.google.com/presentat...   \n",
      "15   Capability  <iframe src=\"https://docs.google.com/presentat...   \n",
      "16   Capability  <iframe src=\"https://docs.google.com/presentat...   \n",
      "17      Product  <iframe src=\"https://docs.google.com/presentat...   \n",
      "18      Project  <iframe src=\"https://docs.google.com/presentat...   \n",
      "19      Product  <iframe src=\"https://docs.google.com/presentat...   \n",
      "20      Project  <iframe src=\"https://docs.google.com/presentat...   \n",
      "21   Capability  <iframe src=\"https://docs.google.com/presentat...   \n",
      "22      Project  <iframe src=\"https://docs.google.com/presentat...   \n",
      "23      Project  <iframe src=\"https://docs.google.com/presentat...   \n",
      "24      Project  <iframe src=\"https://docs.google.com/presentat...   \n",
      "25  Publication  <iframe src=\"https://docs.google.com/presentat...   \n",
      "26      Project  <iframe src=\"https://docs.google.com/presentat...   \n",
      "27      Project  <iframe src=\"https://docs.google.com/presentat...   \n",
      "28   Capability  <iframe src=\"https://docs.google.com/presentat...   \n",
      "29      Project  <iframe src=\"https://docs.google.com/presentat...   \n",
      "..          ...                                                ...   \n",
      "32      Project  <iframe src=\"https://docs.google.com/presentat...   \n",
      "33   Capability  <iframe src=\"https://docs.google.com/presentat...   \n",
      "34  Publication  <iframe src=\"https://docs.google.com/presentat...   \n",
      "35   Capability  <iframe src=\"https://docs.google.com/presentat...   \n",
      "36   Capability  <iframe src=\"https://docs.google.com/presentat...   \n",
      "37      Project  <iframe src=\"https://docs.google.com/presentat...   \n",
      "38      Project  <iframe src=\"https://docs.google.com/presentat...   \n",
      "39      Project  <iframe src=\"https://docs.google.com/presentat...   \n",
      "40      Project  <iframe src=\"https://docs.google.com/presentat...   \n",
      "41      Project  <iframe src=\"https://docs.google.com/presentat...   \n",
      "42      Project  <iframe src=\"https://docs.google.com/presentat...   \n",
      "43      Product  <iframe src=\"https://docs.google.com/presentat...   \n",
      "44      Project  <iframe src=\"https://docs.google.com/presentat...   \n",
      "45      Project  <iframe src=\"https://docs.google.com/presentat...   \n",
      "46      Project  <iframe src=\"https://docs.google.com/presentat...   \n",
      "47      Project  <iframe src=\"https://docs.google.com/presentat...   \n",
      "48   Capability  <iframe src=\"https://docs.google.com/presentat...   \n",
      "49    Milestone  <iframe src=\"https://docs.google.com/presentat...   \n",
      "50  Publication  <iframe src=\"https://docs.google.com/presentat...   \n",
      "51   Capability  <iframe src=\"https://docs.google.com/presentat...   \n",
      "52      Project  <iframe src=\"https://docs.google.com/presentat...   \n",
      "53   Capability  <iframe src=\"https://docs.google.com/presentat...   \n",
      "54   Capability  <iframe src=\"https://docs.google.com/presentat...   \n",
      "55      Project  <iframe src=\"https://docs.google.com/presentat...   \n",
      "56      Project  <iframe src=\"https://docs.google.com/presentat...   \n",
      "57      Project  <iframe src=\"https://docs.google.com/presentat...   \n",
      "58  Publication  <iframe src=\"https://docs.google.com/presentat...   \n",
      "59      Project  <iframe src=\"https://docs.google.com/presentat...   \n",
      "60   Capability  <iframe src=\"https://docs.google.com/presentat...   \n",
      "61   Capability  <iframe src=\"https://docs.google.com/presentat...   \n",
      "\n",
      "                   id  percentComplete  \\\n",
      "0   rec0ArDcPS4hLrmJq              100   \n",
      "1   rec0tbY526abDXcRr                0   \n",
      "2   rec2musyOg3qL274O                5   \n",
      "3   rec3robMWYUXVp8GD               80   \n",
      "4   rec5v7YBAh4XzeOQ7               50   \n",
      "5   rec6MNLorNu6r2hMI               70   \n",
      "6   rec6Sw3PV7S8g7E6f                0   \n",
      "7   rec916rZDT7JzwkZs                0   \n",
      "8   rec9A3ixJX2hNd5Nx                0   \n",
      "9   recBSgYm9bZFyanp3               30   \n",
      "10  recBZs1l0WWw1pytw                0   \n",
      "11  recC9Zxt4MV7hRodc                0   \n",
      "12  recCdV0IBu62AhiOt                0   \n",
      "13  recDOicHkVaPVArFd                0   \n",
      "14  recEL4ZZsARmsYwFt              100   \n",
      "15  recF1PTEM9uexmaTm                0   \n",
      "16  recFT5OW9AN6NJAAp                0   \n",
      "17  recHpePW60ZlXrLKY                0   \n",
      "18  recJMJDs4EKTMzUQm                0   \n",
      "19  recKHYcTAaR6Vkn3s                0   \n",
      "20  recL2m88D6TZ1chAj                0   \n",
      "21  recLOjxayu02HVkjR              100   \n",
      "22  recM8tifFlTEr4VSc                0   \n",
      "23  recMW87IdbvZxXxEd                0   \n",
      "24  recPhk9t87eiweyAl              100   \n",
      "25  recQvmAEvediizEsg                0   \n",
      "26  recR43XpefFqhNpAC                0   \n",
      "27  recSIIp1grVggDGQo               70   \n",
      "28  recXEw0Q2LFFIa2XB              100   \n",
      "29  reca1ZZ98UE1Y07Oo               80   \n",
      "..                ...              ...   \n",
      "32  reccHCPeML8SyRFTp                0   \n",
      "33  recctP32G3sreUKjg                0   \n",
      "34  recdfXs5aT7qL0wVc              100   \n",
      "35  recea5Mw1USCySVAU              100   \n",
      "36  recfkDMBy4hbnCCtM                0   \n",
      "37  recflCm8BzuGQbmW0               50   \n",
      "38  recg3Af1SGeuhckqO                0   \n",
      "39  recgrgZIuBEI9namY               40   \n",
      "40  rechAwGrx1K8hAmTi               20   \n",
      "41  reckGLlAcxRnaKhvi                0   \n",
      "42  recli0IRLQZowpWoF               70   \n",
      "43  recmNHHmIUj4nPild               50   \n",
      "44  recmUQLIxzr2wiyzd                0   \n",
      "45  recmjo5fVtiAflmvo                0   \n",
      "46  recnXgQGgzh4q3t9M                0   \n",
      "47  recnjMKU5MFlbshGD               70   \n",
      "48  recnjUfIqLIJp934C                0   \n",
      "49  recnwxulBH9KL5lLV                0   \n",
      "50  reco8NZ3WlsKp4wJg                0   \n",
      "51  recqOv9Vreddx4JOV                0   \n",
      "52  recqsdnZyKEXLlafN              100   \n",
      "53  recrOomL72JDA45yp              100   \n",
      "54  recru4UXYdMmO7sX8               50   \n",
      "55  recsAhFnFOcFBztTU                0   \n",
      "56  recsE2Wezl1QpWoL3                0   \n",
      "57  rectkEzpAV9fxHPwS                0   \n",
      "58  recwy65aPjhG9k7DU                0   \n",
      "59  recyrw1NPaxr3qzMT                0   \n",
      "60  reczMCua56WUmp3zF              100   \n",
      "61  reczTE03dicIgyCUJ                0   \n",
      "\n",
      "                                           precursors  \n",
      "0              [recflCm8BzuGQbmW0, recSIIp1grVggDGQo]  \n",
      "1                                 [recPhk9t87eiweyAl]  \n",
      "2                                 [rec6MNLorNu6r2hMI]  \n",
      "3              [recli0IRLQZowpWoF, recPhk9t87eiweyAl]  \n",
      "4              [recqsdnZyKEXLlafN, rechAwGrx1K8hAmTi]  \n",
      "5                                 [rec3robMWYUXVp8GD]  \n",
      "6                                                 NaN  \n",
      "7   [recC9Zxt4MV7hRodc, rec2musyOg3qL274O, recBZs1...  \n",
      "8                                 [recsAhFnFOcFBztTU]  \n",
      "9                                                 NaN  \n",
      "10             [reca1ZZ98UE1Y07Oo, recg3Af1SGeuhckqO]  \n",
      "11  [rec5v7YBAh4XzeOQ7, reccHCPeML8SyRFTp, recg3Af...  \n",
      "12                                                NaN  \n",
      "13                                [recJMJDs4EKTMzUQm]  \n",
      "14                                                NaN  \n",
      "15                                                NaN  \n",
      "16  [recF1PTEM9uexmaTm, recCdV0IBu62AhiOt, recLOjx...  \n",
      "17                                [recC9Zxt4MV7hRodc]  \n",
      "18  [recmUQLIxzr2wiyzd, reckGLlAcxRnaKhvi, recaFkQ...  \n",
      "19                                [recnjUfIqLIJp934C]  \n",
      "20                                [recrOomL72JDA45yp]  \n",
      "21                                                NaN  \n",
      "22             [reccHCPeML8SyRFTp, rec6Sw3PV7S8g7E6f]  \n",
      "23                                [recg3Af1SGeuhckqO]  \n",
      "24             [recEL4ZZsARmsYwFt, rectkEzpAV9fxHPwS]  \n",
      "25             [recFT5OW9AN6NJAAp, recdfXs5aT7qL0wVc]  \n",
      "26                                [recmjo5fVtiAflmvo]  \n",
      "27                                [recgrgZIuBEI9namY]  \n",
      "28                                                NaN  \n",
      "29             [recru4UXYdMmO7sX8, reczMCua56WUmp3zF]  \n",
      "..                                                ...  \n",
      "32                                [rechAwGrx1K8hAmTi]  \n",
      "33                                [recEL4ZZsARmsYwFt]  \n",
      "34                                                NaN  \n",
      "35                                [recbg2qJjrY6BVKjM]  \n",
      "36                                [recsAhFnFOcFBztTU]  \n",
      "37                                                NaN  \n",
      "38  [recBSgYm9bZFyanp3, rec3robMWYUXVp8GD, recqOv9...  \n",
      "39                                                NaN  \n",
      "40                                                NaN  \n",
      "41             [recctP32G3sreUKjg, recrOomL72JDA45yp]  \n",
      "42                                [rectkEzpAV9fxHPwS]  \n",
      "43                                [rec916rZDT7JzwkZs]  \n",
      "44                                [recnjMKU5MFlbshGD]  \n",
      "45  [recsE2Wezl1QpWoL3, recFT5OW9AN6NJAAp, recflCm...  \n",
      "46                                                NaN  \n",
      "47                                [recSIIp1grVggDGQo]  \n",
      "48  [recnwxulBH9KL5lLV, recDOicHkVaPVArFd, recnXgQ...  \n",
      "49             [rec916rZDT7JzwkZs, recM8tifFlTEr4VSc]  \n",
      "50                                [recL2m88D6TZ1chAj]  \n",
      "51                                                NaN  \n",
      "52  [reczMCua56WUmp3zF, recrOomL72JDA45yp, recea5M...  \n",
      "53                                [recXEw0Q2LFFIa2XB]  \n",
      "54                                                NaN  \n",
      "55                                [recL2m88D6TZ1chAj]  \n",
      "56                                                NaN  \n",
      "57                                                NaN  \n",
      "58             [recL2m88D6TZ1chAj, recdfXs5aT7qL0wVc]  \n",
      "59                                [recL2m88D6TZ1chAj]  \n",
      "60                                                NaN  \n",
      "61                                [recKHYcTAaR6Vkn3s]  \n",
      "\n",
      "[62 rows x 9 columns]\n"
     ]
    }
   ],
   "metadata": {
    "ExecuteTime": {
     "end_time": "2018-06-13T08:09:44.356389Z",
     "start_time": "2018-06-13T08:09:43.258389Z"
    }
   }
  },
  {
   "cell_type": "code",
   "execution_count": 20,
   "source": [
    "def pull_out_embed_url(embed_code):\n",
    "    \"\"\"Pull the embed url out of the iframe link.\"\"\"\n",
    "    if type(embed_code) is not float:\n",
    "        for thing in embed_code.split(\" \"):\n",
    "            if \"src=\" in thing:\n",
    "                thing = thing.split(\"\\\"\")\n",
    "                for part in thing:\n",
    "                    if \"https://\" in part:\n",
    "                        return part.split(\"?\")[0]\n",
    "    else:\n",
    "        return \"https://www.youtube.com/embed/dQw4w9WgXcQ?rel=0&amp;showinfo=0\"\n",
    "    \n",
    "if TESTING:\n",
    "    embed = '<iframe src=\"https://docs.google.com/presentation/d/e/2PACX-1vRF7DSeGnbLr_zwWnHVrUF0ptxjfIoj9bDwkaJb370IYYWEwF48yszwLUUTAECQ5F6mlJMrUrlQqdj-/embed?start=false&loop=false&delayms=60000\" frameborder=\"0\" width=\"960\" height=\"569\" allowfullscreen=\"true\" mozallowfullscreen=\"true\" webkitallowfullscreen=\"true\"></iframe>'\n",
    "    print( pull_out_embed_url(embed) )"
   ],
   "outputs": [
    {
     "output_type": "stream",
     "name": "stdout",
     "text": [
      "https://docs.google.com/presentation/d/e/2PACX-1vRF7DSeGnbLr_zwWnHVrUF0ptxjfIoj9bDwkaJb370IYYWEwF48yszwLUUTAECQ5F6mlJMrUrlQqdj-/embed\n"
     ]
    }
   ],
   "metadata": {
    "ExecuteTime": {
     "end_time": "2018-06-13T08:09:44.379389Z",
     "start_time": "2018-06-13T08:09:44.359389Z"
    }
   }
  },
  {
   "cell_type": "code",
   "execution_count": 21,
   "source": [
    "def wrap_long_name(row):\r\n",
    "    \"\"\"Insert line breaks to make names fit in the node.\"\"\"\r\n",
    "    try:\r\n",
    "        ln = \"\\n\".join( textwrap.wrap(row[\"LongName\"], LINE_LENGTH))\r\n",
    "    except Exception as e:\r\n",
    "        ln = row[\"LongName\"]\r\n",
    "    return ln"
   ],
   "outputs": [],
   "metadata": {
    "ExecuteTime": {
     "end_time": "2018-06-13T08:09:44.390389Z",
     "start_time": "2018-06-13T08:09:44.382389Z"
    },
    "collapsed": true
   }
  },
  {
   "cell_type": "code",
   "execution_count": 22,
   "source": [
    "def make_node_description(row, long_name_broken):\r\n",
    "    node_description_pattern = \"{name} [label=\\\"{longName}\\\"];\"\r\n",
    "    return node_description_pattern.format(name=row[\"Name\"], longName=long_name_broken)"
   ],
   "outputs": [],
   "metadata": {
    "ExecuteTime": {
     "end_time": "2018-06-13T08:09:44.398389Z",
     "start_time": "2018-06-13T08:09:44.393389Z"
    },
    "collapsed": true
   }
  },
  {
   "cell_type": "code",
   "execution_count": 23,
   "source": [
    "project_data = get_table(\"Techs\")\r\n",
    "project_data.set_index(\"id\", inplace=True)\r\n",
    "project_data.deck_embed = project_data.deck_embed.apply(pull_out_embed_url)\r\n",
    "project_data.sample(2)"
   ],
   "outputs": [
    {
     "output_type": "execute_result",
     "data": {
      "text/plain": [
       "                             LongName          Name Other_people_involved  \\\n",
       "id                                                                          \n",
       "recrOomL72JDA45yp     Sensor Literacy       sensors                   NaN   \n",
       "recbg2qJjrY6BVKjM  Electronics Design  electronicsD                   NaN   \n",
       "\n",
       "                                 Owner        Type  \\\n",
       "id                                                   \n",
       "recrOomL72JDA45yp  [recj2rmnndUmxB3Dt]  Capability   \n",
       "recbg2qJjrY6BVKjM  [recj2rmnndUmxB3Dt]  Capability   \n",
       "\n",
       "                                                          deck_embed  \\\n",
       "id                                                                     \n",
       "recrOomL72JDA45yp  https://docs.google.com/presentation/d/e/2PACX...   \n",
       "recbg2qJjrY6BVKjM  https://docs.google.com/presentation/d/e/2PACX...   \n",
       "\n",
       "                   percentComplete           precursors  \n",
       "id                                                       \n",
       "recrOomL72JDA45yp              100  [recXEw0Q2LFFIa2XB]  \n",
       "recbg2qJjrY6BVKjM              100                  NaN  "
      ],
      "text/html": [
       "<div>\n",
       "<style>\n",
       "    .dataframe thead tr:only-child th {\n",
       "        text-align: right;\n",
       "    }\n",
       "\n",
       "    .dataframe thead th {\n",
       "        text-align: left;\n",
       "    }\n",
       "\n",
       "    .dataframe tbody tr th {\n",
       "        vertical-align: top;\n",
       "    }\n",
       "</style>\n",
       "<table border=\"1\" class=\"dataframe\">\n",
       "  <thead>\n",
       "    <tr style=\"text-align: right;\">\n",
       "      <th></th>\n",
       "      <th>LongName</th>\n",
       "      <th>Name</th>\n",
       "      <th>Other_people_involved</th>\n",
       "      <th>Owner</th>\n",
       "      <th>Type</th>\n",
       "      <th>deck_embed</th>\n",
       "      <th>percentComplete</th>\n",
       "      <th>precursors</th>\n",
       "    </tr>\n",
       "    <tr>\n",
       "      <th>id</th>\n",
       "      <th></th>\n",
       "      <th></th>\n",
       "      <th></th>\n",
       "      <th></th>\n",
       "      <th></th>\n",
       "      <th></th>\n",
       "      <th></th>\n",
       "      <th></th>\n",
       "    </tr>\n",
       "  </thead>\n",
       "  <tbody>\n",
       "    <tr>\n",
       "      <th>recrOomL72JDA45yp</th>\n",
       "      <td>Sensor Literacy</td>\n",
       "      <td>sensors</td>\n",
       "      <td>NaN</td>\n",
       "      <td>[recj2rmnndUmxB3Dt]</td>\n",
       "      <td>Capability</td>\n",
       "      <td>https://docs.google.com/presentation/d/e/2PACX...</td>\n",
       "      <td>100</td>\n",
       "      <td>[recXEw0Q2LFFIa2XB]</td>\n",
       "    </tr>\n",
       "    <tr>\n",
       "      <th>recbg2qJjrY6BVKjM</th>\n",
       "      <td>Electronics Design</td>\n",
       "      <td>electronicsD</td>\n",
       "      <td>NaN</td>\n",
       "      <td>[recj2rmnndUmxB3Dt]</td>\n",
       "      <td>Capability</td>\n",
       "      <td>https://docs.google.com/presentation/d/e/2PACX...</td>\n",
       "      <td>100</td>\n",
       "      <td>NaN</td>\n",
       "    </tr>\n",
       "  </tbody>\n",
       "</table>\n",
       "</div>"
      ]
     },
     "metadata": {},
     "execution_count": 23
    }
   ],
   "metadata": {
    "ExecuteTime": {
     "end_time": "2018-06-13T08:09:45.408389Z",
     "start_time": "2018-06-13T08:09:44.401389Z"
    }
   }
  },
  {
   "cell_type": "code",
   "execution_count": 24,
   "source": [
    "edge_pattern = \"{from_node} -> {to_node};\"\r\n",
    "\r\n",
    "node_descriptions = []\r\n",
    "edges = []\r\n",
    "for i, row in project_data.iterrows():\r\n",
    "    ln = wrap_long_name(row)\r\n",
    "    n = make_node_description(row, ln)\r\n",
    "    node_descriptions.append(n)\r\n",
    "    \r\n",
    "    if type(row[\"precursors\"]) is not float: # nothing reads as NaN, therefore float\r\n",
    "        precursors = row[\"precursors\"]#.split(\",\")\r\n",
    "        for precursor in precursors:\r\n",
    "            e = edge_pattern.format(from_node=project_data.loc[precursor].Name,\r\n",
    "                                    to_node=row[\"Name\"])\r\n",
    "            edges.append(e)\r\n",
    "    "
   ],
   "outputs": [],
   "metadata": {
    "ExecuteTime": {
     "end_time": "2018-06-13T08:09:45.471389Z",
     "start_time": "2018-06-13T08:09:45.410389Z"
    },
    "collapsed": true
   }
  },
  {
   "cell_type": "code",
   "execution_count": null,
   "source": [],
   "outputs": [],
   "metadata": {
    "collapsed": true
   }
  },
  {
   "cell_type": "code",
   "execution_count": 25,
   "source": [
    "g = f\"\"\"digraph G {{\r\n",
    "  size = \"16.66,8.33!\"; // 1200x600 at 72px/in, \"!\" to force\r\n",
    "  ratio = \"fill\";\r\n",
    "  rankdir  = \"LR\";\r\n",
    "  label    = \"Tech Tree of OATMEAL Projects\";\r\n",
    "  labelloc = \"t\";\r\n",
    "  node [style=filled,\r\n",
    "        shape=\"oval\", \r\n",
    "        fixedsize=true, \r\n",
    "        width=1,\r\n",
    "        height=1,\r\n",
    "        fontsize=8\r\n",
    "       ];\r\n",
    "  edge [arrowhead=vee,\r\n",
    "        arrowsize=0.5]\r\n",
    "  \r\n",
    "  {\"\\n  \".join(node_descriptions)}\r\n",
    "  \r\n",
    "  {\"\\n  \".join(edges)}\r\n",
    "  \r\n",
    "  //{{rank = same; data; basicRobot; hardware; systemReef; SNAawareness}};\r\n",
    "  \r\n",
    "}}\"\"\"\r\n",
    "\r\n",
    "\r\n",
    "# print(g)\r\n",
    "g_lines = g.split(\"\\n \")\r\n",
    "\r\n",
    "digraph_js = f\"\"\"var digraph_details = {g_lines};\r\n",
    "\r\n",
    " digraph_details =  digraph_details.join(\"\\\\n\");\r\n",
    "  \r\n",
    "\"\"\"\r\n",
    "\r\n",
    "with open('digraph.js', 'w') as f:\r\n",
    "    f.write(digraph_js)\r\n",
    "    \r\n",
    "jsonp_body += \"\\n\\n\\n\" + digraph_js"
   ],
   "outputs": [],
   "metadata": {
    "ExecuteTime": {
     "end_time": "2018-06-13T08:09:45.498389Z",
     "start_time": "2018-06-13T08:09:45.474389Z"
    }
   }
  },
  {
   "cell_type": "code",
   "execution_count": 26,
   "source": [
    "# make the dictionary have the project name as a key, instead of bing a list of independent dicts\r\n",
    "simple_dict = project_data.to_dict(orient=\"records\")\r\n",
    "new_dict = {}\r\n",
    "for row in simple_dict:\r\n",
    "    new_dict[row[\"Name\"]] = row\r\n",
    "\r\n",
    "j = simplejson.dumps(new_dict, ignore_nan=True, sort_keys=True, indent=2)\r\n",
    "with open('parallelData.js', 'w') as f:\r\n",
    "    f.write(f\"var parallelData = {j};\")\r\n",
    "    \r\n",
    "jsonp_body += \"\\n\\n\\n\" + j"
   ],
   "outputs": [],
   "metadata": {
    "ExecuteTime": {
     "end_time": "2018-06-13T08:09:45.526389Z",
     "start_time": "2018-06-13T08:09:45.501389Z"
    },
    "collapsed": true
   }
  },
  {
   "cell_type": "code",
   "execution_count": 27,
   "source": [
    "def get_thumb(row):\r\n",
    "    try:\r\n",
    "        h = row[\"Headshot\"]\r\n",
    "        if type(h) is not float:\r\n",
    "            # TODO: make this check for small as well\r\n",
    "            x = list(h)\r\n",
    "            return x[0]['thumbnails'][\"large\"][\"url\"]\r\n",
    "        else:\r\n",
    "            return \"http://getdrawings.com/images/casper-drawing-8.jpg\"\r\n",
    "    except Exception as e:\r\n",
    "        print(e)\r\n",
    "        return \"http://getdrawings.com/images/casper-drawing-8.jpg\"\r\n"
   ],
   "outputs": [],
   "metadata": {
    "ExecuteTime": {
     "end_time": "2018-06-13T08:09:45.544389Z",
     "start_time": "2018-06-13T08:09:45.530389Z"
    },
    "collapsed": true
   }
  },
  {
   "cell_type": "code",
   "execution_count": 28,
   "source": [
    "people_data = get_table(\"People\")\r\n",
    "people_data[\"thumb_large\"] = people_data.apply(get_thumb, axis=1)\r\n",
    "people_data.sample(5)"
   ],
   "outputs": [
    {
     "output_type": "execute_result",
     "data": {
      "text/plain": [
       "                                             Headshot Initials        Name  \\\n",
       "12  [{'id': 'attQWA0Akrd7nj0RE', 'size': 283997, '...       SF     Shawnee   \n",
       "7   [{'id': 'att6DDYg3qurTxHLC', 'size': 54300, 'u...      BiD        Bill   \n",
       "4   [{'id': 'attJPKI8qeNxWFgDi', 'size': 159204, '...      BaD     Barry D   \n",
       "5                                                 NaN       RX  AI Richard   \n",
       "10  [{'id': 'attiQH5ebrzZzivNM', 'size': 136215, '...       IV      Ishaan   \n",
       "\n",
       "   Notes                                              Techs  \\\n",
       "12   NaN  [recmUQLIxzr2wiyzd, recXEw0Q2LFFIa2XB, recnjMK...   \n",
       "7    NaN             [recmNHHmIUj4nPild, recHpePW60ZlXrLKY]   \n",
       "4    NaN                                                NaN   \n",
       "5    NaN                                [recnjMKU5MFlbshGD]   \n",
       "10   NaN  [rechAwGrx1K8hAmTi, recg3Af1SGeuhckqO, recL2m8...   \n",
       "\n",
       "                   id                                        thumb_large  \n",
       "12  recjdvfsS0ZXESR2L  https://dl.airtable.com/cHKAzERHQdjq4HvX1IIg_l...  \n",
       "7   recHN7P3Wz3YGdAN2  https://dl.airtable.com/nestrTYmQqT79f6rfpHQ_l...  \n",
       "4   recFKWrjwOUM5oWxI  https://dl.airtable.com/4NWLSnTFRwSfdFDBAt9A_l...  \n",
       "5   recFUgthTUYQnR7Mz  http://getdrawings.com/images/casper-drawing-8...  \n",
       "10  recgcDkgKvrBLH1k0  https://dl.airtable.com/heJnNH6AS0CjCCRvxXa3_l...  "
      ],
      "text/html": [
       "<div>\n",
       "<style>\n",
       "    .dataframe thead tr:only-child th {\n",
       "        text-align: right;\n",
       "    }\n",
       "\n",
       "    .dataframe thead th {\n",
       "        text-align: left;\n",
       "    }\n",
       "\n",
       "    .dataframe tbody tr th {\n",
       "        vertical-align: top;\n",
       "    }\n",
       "</style>\n",
       "<table border=\"1\" class=\"dataframe\">\n",
       "  <thead>\n",
       "    <tr style=\"text-align: right;\">\n",
       "      <th></th>\n",
       "      <th>Headshot</th>\n",
       "      <th>Initials</th>\n",
       "      <th>Name</th>\n",
       "      <th>Notes</th>\n",
       "      <th>Techs</th>\n",
       "      <th>id</th>\n",
       "      <th>thumb_large</th>\n",
       "    </tr>\n",
       "  </thead>\n",
       "  <tbody>\n",
       "    <tr>\n",
       "      <th>12</th>\n",
       "      <td>[{'id': 'attQWA0Akrd7nj0RE', 'size': 283997, '...</td>\n",
       "      <td>SF</td>\n",
       "      <td>Shawnee</td>\n",
       "      <td>NaN</td>\n",
       "      <td>[recmUQLIxzr2wiyzd, recXEw0Q2LFFIa2XB, recnjMK...</td>\n",
       "      <td>recjdvfsS0ZXESR2L</td>\n",
       "      <td>https://dl.airtable.com/cHKAzERHQdjq4HvX1IIg_l...</td>\n",
       "    </tr>\n",
       "    <tr>\n",
       "      <th>7</th>\n",
       "      <td>[{'id': 'att6DDYg3qurTxHLC', 'size': 54300, 'u...</td>\n",
       "      <td>BiD</td>\n",
       "      <td>Bill</td>\n",
       "      <td>NaN</td>\n",
       "      <td>[recmNHHmIUj4nPild, recHpePW60ZlXrLKY]</td>\n",
       "      <td>recHN7P3Wz3YGdAN2</td>\n",
       "      <td>https://dl.airtable.com/nestrTYmQqT79f6rfpHQ_l...</td>\n",
       "    </tr>\n",
       "    <tr>\n",
       "      <th>4</th>\n",
       "      <td>[{'id': 'attJPKI8qeNxWFgDi', 'size': 159204, '...</td>\n",
       "      <td>BaD</td>\n",
       "      <td>Barry D</td>\n",
       "      <td>NaN</td>\n",
       "      <td>NaN</td>\n",
       "      <td>recFKWrjwOUM5oWxI</td>\n",
       "      <td>https://dl.airtable.com/4NWLSnTFRwSfdFDBAt9A_l...</td>\n",
       "    </tr>\n",
       "    <tr>\n",
       "      <th>5</th>\n",
       "      <td>NaN</td>\n",
       "      <td>RX</td>\n",
       "      <td>AI Richard</td>\n",
       "      <td>NaN</td>\n",
       "      <td>[recnjMKU5MFlbshGD]</td>\n",
       "      <td>recFUgthTUYQnR7Mz</td>\n",
       "      <td>http://getdrawings.com/images/casper-drawing-8...</td>\n",
       "    </tr>\n",
       "    <tr>\n",
       "      <th>10</th>\n",
       "      <td>[{'id': 'attiQH5ebrzZzivNM', 'size': 136215, '...</td>\n",
       "      <td>IV</td>\n",
       "      <td>Ishaan</td>\n",
       "      <td>NaN</td>\n",
       "      <td>[rechAwGrx1K8hAmTi, recg3Af1SGeuhckqO, recL2m8...</td>\n",
       "      <td>recgcDkgKvrBLH1k0</td>\n",
       "      <td>https://dl.airtable.com/heJnNH6AS0CjCCRvxXa3_l...</td>\n",
       "    </tr>\n",
       "  </tbody>\n",
       "</table>\n",
       "</div>"
      ]
     },
     "metadata": {},
     "execution_count": 28
    }
   ],
   "metadata": {
    "ExecuteTime": {
     "end_time": "2018-06-13T08:09:46.566389Z",
     "start_time": "2018-06-13T08:09:45.548389Z"
    }
   }
  },
  {
   "cell_type": "code",
   "execution_count": 29,
   "source": [
    "# make the dictionary have the project name as a key, instead of bing a list of independent dicts\r\n",
    "simple_people_dict = people_data.to_dict(orient=\"records\")\r\n",
    "new_p_dict = {}\r\n",
    "for row in simple_people_dict:\r\n",
    "    new_p_dict[row[\"id\"]] = row\r\n",
    "    \r\n",
    "new_p_dict\r\n",
    "\r\n",
    "j = simplejson.dumps(new_p_dict, ignore_nan=True, sort_keys=True, indent=2)\r\n",
    "j = f\"var peopleData = {j};\"\r\n",
    "with open('peopleData.js', 'w') as f:\r\n",
    "    f.write(j)\r\n",
    "jsonp_body += \"\\n\\n\\n\" + j"
   ],
   "outputs": [],
   "metadata": {
    "ExecuteTime": {
     "end_time": "2018-06-13T08:09:46.592389Z",
     "start_time": "2018-06-13T08:09:46.569389Z"
    },
    "collapsed": true
   }
  },
  {
   "cell_type": "code",
   "execution_count": 30,
   "source": [
    "with open('all.js', 'w') as f:\r\n",
    "    f.write(jsonp_body)  "
   ],
   "outputs": [],
   "metadata": {
    "ExecuteTime": {
     "end_time": "2018-06-13T08:09:46.604389Z",
     "start_time": "2018-06-13T08:09:46.594389Z"
    },
    "collapsed": true
   }
  },
  {
   "cell_type": "markdown",
   "source": [
    "![](https://dl.airtable.com/vao3Ge65RXuQs17gLU4p_small_MVIMG_20180224_173642.jpg)"
   ],
   "metadata": {
    "ExecuteTime": {
     "end_time": "2018-05-30T07:34:48.821436Z",
     "start_time": "2018-05-30T07:34:48.772431Z"
    }
   }
  }
 ],
 "metadata": {
  "kernelspec": {
   "display_name": "Python 3",
   "language": "python",
   "name": "python3"
  },
  "language_info": {
   "codemirror_mode": {
    "name": "ipython",
    "version": 3
   },
   "file_extension": ".py",
   "mimetype": "text/x-python",
   "name": "python",
   "nbconvert_exporter": "python",
   "pygments_lexer": "ipython3",
   "version": "3.5.4"
  },
  "toc": {
   "nav_menu": {},
   "number_sections": true,
   "sideBar": true,
   "skip_h1_title": false,
   "toc_cell": false,
   "toc_position": {},
   "toc_section_display": "block",
   "toc_window_display": false
  },
  "varInspector": {
   "cols": {
    "lenName": 16,
    "lenType": 16,
    "lenVar": 40
   },
   "kernels_config": {
    "python": {
     "delete_cmd_postfix": "",
     "delete_cmd_prefix": "del ",
     "library": "var_list.py",
     "varRefreshCmd": "print(var_dic_list())"
    },
    "r": {
     "delete_cmd_postfix": ") ",
     "delete_cmd_prefix": "rm(",
     "library": "var_list.r",
     "varRefreshCmd": "cat(var_dic_list()) "
    }
   },
   "types_to_exclude": [
    "module",
    "function",
    "builtin_function_or_method",
    "instance",
    "_Feature"
   ],
   "window_display": false
  }
 },
 "nbformat": 4,
 "nbformat_minor": 2
}